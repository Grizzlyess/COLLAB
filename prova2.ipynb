{
  "nbformat": 4,
  "nbformat_minor": 0,
  "metadata": {
    "colab": {
      "provenance": [],
      "authorship_tag": "ABX9TyOWWmsRVDPxcgcedTV3s7lL",
      "include_colab_link": true
    },
    "kernelspec": {
      "name": "python3",
      "display_name": "Python 3"
    },
    "language_info": {
      "name": "python"
    }
  },
  "cells": [
    {
      "cell_type": "markdown",
      "metadata": {
        "id": "view-in-github",
        "colab_type": "text"
      },
      "source": [
        "<a href=\"https://colab.research.google.com/github/Grizzlyess/COLLAB/blob/main/prova2.ipynb\" target=\"_parent\"><img src=\"https://colab.research.google.com/assets/colab-badge.svg\" alt=\"Open In Colab\"/></a>"
      ]
    },
    {
      "cell_type": "code",
      "execution_count": 1,
      "metadata": {
        "id": "hfpAStUXoPOj",
        "colab": {
          "base_uri": "https://localhost:8080/"
        },
        "outputId": "76914e6c-714e-47d4-f339-044a51688c96"
      },
      "outputs": [
        {
          "output_type": "stream",
          "name": "stdout",
          "text": [
            "João\n",
            "30\n",
            "31\n",
            "A chave 'cidade' não existe no dicionário.\n",
            "nome :  João\n",
            "idade :  31\n",
            "nome :  João\n",
            "idade :  31\n"
          ]
        }
      ],
      "source": [
        "# Criando um dicionário vazio\n",
        "meu_dicionario = {}\n",
        "\n",
        "# Adicionando elementos ao dicionário\n",
        "meu_dicionario['nome'] = 'João'\n",
        "meu_dicionario['idade'] = 30\n",
        "meu_dicionario['cidade'] = 'São Paulo'\n",
        "\n",
        "# Acessando elementos do dicionário\n",
        "print(meu_dicionario['nome'])  # Saída: João\n",
        "print(meu_dicionario['idade'])  # Saída: 30\n",
        "\n",
        "# Alterando um valor no dicionário\n",
        "meu_dicionario['idade'] = 31\n",
        "print(meu_dicionario['idade'])  # Saída: 31\n",
        "\n",
        "# Removendo um par chave-valor do dicionário\n",
        "del meu_dicionario['cidade']\n",
        "\n",
        "# Verificando se uma chave existe no dicionário\n",
        "if 'cidade' in meu_dicionario:\n",
        "    print(\"A chave 'cidade' existe no dicionário.\")\n",
        "else:\n",
        "    print(\"A chave 'cidade' não existe no dicionário.\")\n",
        "\n",
        "# Iterando sobre as chaves do dicionário\n",
        "for chave in meu_dicionario:\n",
        "    print(chave, \": \", meu_dicionario[chave])\n",
        "\n",
        "# Iterando sobre os pares chave-valor do dicionário\n",
        "for chave, valor in meu_dicionario.items():\n",
        "    print(chave, \": \", valor)\n"
      ]
    },
    {
      "cell_type": "code",
      "source": [
        "#51) Faça um programa para receber dados dos clientes (nome e telefone) e guardada em uma lista de dicionários\n",
        "# contendo essas informaçõe. O programa deve parar ao receber o número \"1\" como nome\n",
        "\n",
        "# Inicializa a lista vazia para armazenar os clientes\n",
        "clientes = []\n",
        "\n",
        "# Loop infinito para receber dados dos clientes\n",
        "while True:\n",
        "    nome = input(\"Digite o nome do cliente (ou '1' para parar): \")\n",
        "\n",
        "    # Verifica se o usuário quer parar o programa\n",
        "    if nome == '1':\n",
        "        break\n",
        "\n",
        "    telefone = input(\"Digite o telefone do cliente: \")\n",
        "\n",
        "    # Cria um dicionário com os dados do cliente e adiciona à lista\n",
        "    cliente = {'nome': nome, 'telefone': telefone}\n",
        "    clientes.append(cliente)\n",
        "\n",
        "# Imprime a lista de clientes\n",
        "print(\"\\nLista de clientes:\")\n",
        "for cliente in clientes:\n",
        "    print(\"Nome:\", cliente['nome'], \"| Telefone:\", cliente['telefone'])\n"
      ],
      "metadata": {
        "id": "1Re3SD3Ro_KS"
      },
      "execution_count": null,
      "outputs": []
    },
    {
      "cell_type": "code",
      "source": [
        "clientes = [\n",
        "    {'nome': 'Maria Silva', 'telefone': '123456789'},\n",
        "    {'nome': 'João Oliveira', 'telefone': '987654321'},\n",
        "    {'nome': 'Ana Souza', 'telefone': '555555555'}\n",
        "]\n",
        "\n",
        "nome = input()\n",
        "for cliente in clientes:\n",
        "  if nome.lower() in cliente['nome'].lower():\n",
        "    print(f\"{cliente['nome']} | {cliente['telefone']}\")\n"
      ],
      "metadata": {
        "id": "9x8btlCbpxxR"
      },
      "execution_count": null,
      "outputs": []
    },
    {
      "cell_type": "code",
      "source": [
        "d = {'a': 1, 'b': 2, 'c': 3}\n",
        "valores = d.values()\n",
        "print(valores)  # Saída: dict_values([1, 2, 3])\n"
      ],
      "metadata": {
        "colab": {
          "base_uri": "https://localhost:8080/"
        },
        "id": "cb7dY79wr6f6",
        "outputId": "498afed0-203c-44ba-8e5a-994a51ca25c3"
      },
      "execution_count": null,
      "outputs": [
        {
          "output_type": "stream",
          "name": "stdout",
          "text": [
            "dict_values([1, 2, 3])\n"
          ]
        }
      ]
    },
    {
      "cell_type": "code",
      "source": [
        "cadastro = [\n",
        "    {'nome': 'Maria', 'telefone': '(85)99999-9999'},\n",
        "    {'nome': 'Clara', 'telefone': '(85)98888-9999'}\n",
        "]\n",
        "\n",
        "print(\"Relatório de Clientes:\")\n",
        "print(\"----------------------\")\n",
        "for cliente in cadastro:\n",
        "    valores_cliente = cliente.values()\n",
        "    nome, telefone = valores_cliente\n",
        "    print(\"Nome:\", nome)\n",
        "    print(\"Telefone:\", telefone)\n",
        "    print(\"----------------------\")\n"
      ],
      "metadata": {
        "id": "ZCDpm2tAsy5-"
      },
      "execution_count": null,
      "outputs": []
    },
    {
      "cell_type": "code",
      "source": [
        "# 55) Supopnha que você trabalha em uma equipe que mantém um aplicativo mobile\n",
        "# que é comercializado em diferentes partes do mundo. Crie uma estrutura com o\n",
        "# usuo de dicionário para traduzir a interface de português para inglês.\n",
        "# Frases utilizadas pela interface:\n",
        "# Lista de frases utilizadas pela interface\n",
        "lista_frases = ['ok', 'voltar', 'seguir', 'confirma', 'login', 'senha', 'Ação realizada com sucesso']\n",
        "\n",
        "# Dicionário de tradução de português para inglês\n",
        "traducoes = {\n",
        "    'ok': 'ok',\n",
        "    'voltar': 'back',\n",
        "    'seguir': 'next',\n",
        "    'confirma': 'confirm',\n",
        "    'login': 'login',\n",
        "    'senha': 'password',\n",
        "    'Ação realizada com sucesso': 'Action performed successfully'\n",
        "}\n",
        "\n",
        "# Exibindo as traduções\n",
        "print(\"Traduções de português para inglês:\")\n",
        "for frase_pt in lista_frases:\n",
        "    frase_en = traducoes.get(frase_pt, \"Tradução não encontrada\")\n",
        "    print(f\"{frase_pt}: {frase_en}\")\n"
      ],
      "metadata": {
        "id": "MbIK5gG0trFW"
      },
      "execution_count": null,
      "outputs": []
    },
    {
      "cell_type": "code",
      "source": [
        "# 56) O aplicativo será utilizado em regiões que falam francês e espanhol também.\n",
        "# Proponha uma estrutura para que seja útil para realizar a tradução bastando\n",
        "# especificar o idioma em português.\n",
        "\n",
        "# Dicionário de traduções\n",
        "traducoes = {\n",
        "    'portugues': {\n",
        "        'ok': 'ok',\n",
        "        'voltar': 'voltar',\n",
        "        'seguir': 'seguir',\n",
        "        'confirma': 'confirma',\n",
        "        'login': 'login',\n",
        "        'senha': 'senha',\n",
        "        'Ação realizada com sucesso': 'Ação realizada com sucesso'\n",
        "    },\n",
        "    'ingles': {\n",
        "        'ok': 'ok',\n",
        "        'voltar': 'back',\n",
        "        'seguir': 'next',\n",
        "        'confirma': 'confirm',\n",
        "        'login': 'login',\n",
        "        'senha': 'password',\n",
        "        'Ação realizada com sucesso': 'Action performed successfully'\n",
        "    },\n",
        "    'frances': {\n",
        "        'ok': 'd\\'accord',\n",
        "        'voltar': 'retour',\n",
        "        'seguir': 'suivant',\n",
        "        'confirma': 'confirmer',\n",
        "        'login': 'connexion',\n",
        "        'senha': 'mot de passe',\n",
        "        'Ação realizada com sucesso': 'Action réussie'\n",
        "    },\n",
        "    'espanhol': {\n",
        "        'ok': 'ok',\n",
        "        'voltar': 'volver',\n",
        "        'seguir': 'siguiente',\n",
        "        'confirma': 'confirmar',\n",
        "        'login': 'iniciar sesión',\n",
        "        'senha': 'contraseña',\n",
        "        'Ação realizada com sucesso': 'Acción realizada con éxito'\n",
        "    }\n",
        "}\n",
        "\n",
        "# Função para traduzir uma frase para um idioma específico\n",
        "def traduzir(frase, idioma):\n",
        "    traducao = traducoes.get(idioma, {}).get(frase, \"Tradução não encontrada\")\n",
        "    return traducao\n",
        "\n",
        "# Testando a função de tradução\n",
        "frase_pt = 'ok'\n",
        "idioma_destino = 'frances'\n",
        "print(f\"Tradução de '{frase_pt}' para {idioma_destino}: {traduzir(frase_pt, idioma_destino)}\")\n"
      ],
      "metadata": {
        "id": "dl0SdUjgtVvA"
      },
      "execution_count": null,
      "outputs": []
    },
    {
      "cell_type": "code",
      "source": [
        "# Criando um dicionário a partir de chaves padrões e um valor padrão para preenchimento das informações.\n",
        "chaves = ['a', 'b', 'c']\n",
        "valor_padrao = 0\n",
        "\n",
        "novo_dicionario = dict.fromkeys(chaves, valor_padrao)\n",
        "print(novo_dicionario)\n"
      ],
      "metadata": {
        "id": "ZSCPbrPouDKI"
      },
      "execution_count": null,
      "outputs": []
    },
    {
      "cell_type": "code",
      "source": [
        "# 57) Partindo de uma lista de informações padrão, faça um programa para\n",
        "# adicionar 10 clientes com informações padrões na lista clientes (dicionário).\n",
        "\n",
        "lista = []\n",
        "for i in range(10):\n",
        "  cliente = dict.fromkeys(['nome', 'telefone', 'endereço'], 'Valor padrão')\n",
        "  lista.append(cliente)\n",
        "lista\n",
        "\n",
        "\n"
      ],
      "metadata": {
        "id": "-ksRumXiupg6"
      },
      "execution_count": null,
      "outputs": []
    },
    {
      "cell_type": "code",
      "source": [
        "# Digamos que você criou um dicionário assim:\n",
        "cliente=dict.fromkeys(['nome','telefone', 'endereço'], 'Valor padrão')\n",
        "cliente\n",
        "\n",
        "# Podemos utilizar a atribuição para atualizar uma chave por vez ou incluí-lo\n",
        "# com base em uma nova chave, caso esta não exista.\n",
        "cliente['gênero']='M'\n",
        "cliente['nome']= 'Raimundo Valter Costa Filho'\n",
        "cliente"
      ],
      "metadata": {
        "id": "WVMVvC8k3vNo"
      },
      "execution_count": null,
      "outputs": []
    },
    {
      "cell_type": "code",
      "source": [
        "dicionario = {'a': 1, 'b': 2}\n",
        "dicionario.update({'b': 3, 'c': 4})\n",
        "print(dicionario)\n"
      ],
      "metadata": {
        "id": "Fa1o0CBx3yQT"
      },
      "execution_count": null,
      "outputs": []
    },
    {
      "cell_type": "code",
      "source": [
        "# Podemos utilizar o método update para unir dois\n",
        "# dicionários em um só.\n",
        "dic1={'a': 1, 'b': 2}\n",
        "dic2={'c':3,'d':4}\n",
        "dic1.update(dic2)\n",
        "print(dic1)"
      ],
      "metadata": {
        "id": "v87MQuHF3-t7"
      },
      "execution_count": null,
      "outputs": []
    },
    {
      "cell_type": "code",
      "source": [
        "# 58) Você está trabalhando em um sistema de gestão de produtos em um estoque\n",
        "# e precisa implementar uma funcionalidade para combinar informações de dois\n",
        "# dicionários relacionados a produtos. Tem-se uma lista de dicionários onde cada\n",
        "# um contém informações básicas sobre o produto como nome e preço. Outra lista\n",
        "# mantendo a ordem dos produtos da primeira contém dicionários onde guarda-se as\n",
        "# informações adicionais como a quantidade em estoque atual e quantidade de estoque mínima.\n",
        "# Crie uma lista única chamada Produtos, onde cada produto está representado\n",
        "# por um dicionário contendo as informações dos dois dicionários concatenados.\n",
        "\n",
        "lista1 = [{'nome':'Batata', 'preço': 4.50}, {'nome':'Cenoura', 'preço': 2.55}]\n",
        "lista2 = [{'estoque atual': 10, 'estoque mínimo': 2}, {'estoque atual': 23, 'estoque mínimo': 5}]\n",
        "\n",
        "# Lista para armazenar os produtos combinados\n",
        "produtos = []\n",
        "\n",
        "# Combinando as informações dos dois dicionários para cada produto\n",
        "for produto1, produto2 in zip(lista1, lista2):\n",
        "    produto1.update(produto2)\n",
        "    produtos.append(produto1)\n",
        "\n",
        "# Exibindo a lista de produtos combinados\n",
        "print(\"Produtos combinados:\")\n",
        "for produto in produtos:\n",
        "    print(produto)\n"
      ],
      "metadata": {
        "colab": {
          "base_uri": "https://localhost:8080/"
        },
        "id": "g3gN9ve74BT5",
        "outputId": "3bac92da-c186-497b-f7a5-2ac84e33b92f"
      },
      "execution_count": null,
      "outputs": [
        {
          "output_type": "stream",
          "name": "stdout",
          "text": [
            "Produtos combinados:\n",
            "{'nome': 'Batata', 'preço': 4.5, 'estoque atual': 10, 'estoque mínimo': 2}\n",
            "{'nome': 'Cenoura', 'preço': 2.55, 'estoque atual': 23, 'estoque mínimo': 5}\n"
          ]
        }
      ]
    },
    {
      "cell_type": "code",
      "source": [
        "dicionario = {'a': 1, 'b': 2}\n",
        "\n",
        "# Adicionando a chave 'c' com o valor 3\n",
        "valor_retornado = dicionario.setdefault('c', 3)\n",
        "print(\"Valor retornado:\", valor_retornado)  # Saída: 3\n",
        "print(\"Dicionário atualizado:\", dicionario)  # Saída: {'a': 1, 'b': 2, 'c': 3}\n",
        "\n",
        "# Adicionando a chave 'a' com o valor 10\n",
        "valor_retornado = dicionario.setdefault('a', 10)\n",
        "print(\"Valor retornado:\", valor_retornado)  # Saída: 1 (valor associado à chave 'a' antes da atualização)\n",
        "print(\"Dicionário atualizado:\", dicionario)  # Saída: {'a': 1, 'b': 2, 'c': 3}\n"
      ],
      "metadata": {
        "colab": {
          "base_uri": "https://localhost:8080/"
        },
        "id": "NzdHiZa64Df0",
        "outputId": "6c893e95-473d-4ae5-d998-6793e3e4708e"
      },
      "execution_count": null,
      "outputs": [
        {
          "output_type": "stream",
          "name": "stdout",
          "text": [
            "Valor retornado: 3\n",
            "Dicionário atualizado: {'a': 1, 'b': 2, 'c': 3}\n",
            "Valor retornado: 1\n",
            "Dicionário atualizado: {'a': 1, 'b': 2, 'c': 3}\n"
          ]
        }
      ]
    },
    {
      "cell_type": "code",
      "source": [
        "# Existe um método para adicionar uma chave e um valor em um dicionário.\n",
        "# Caso a chave já exista, este método retorna o valor associado.\n",
        "# Caso a chave não exista, ela é incluida e o valor incluso é retornado.\n",
        "dicionario = {'a': 1, 'b': 2}\n",
        "\n",
        "# Adicionando a chave 'c' com o valor 3\n",
        "valor_retornado = dicionario.setdefault('c', 3)\n",
        "print(\"Valor retornado:\", valor_retornado)  # Saída: 3\n",
        "print(\"Dicionário atualizado:\", dicionario)  # Saída: {'a': 1, 'b': 2, 'c': 3}\n",
        "\n",
        "# Adicionando a chave 'a' com o valor 10\n",
        "valor_retornado = dicionario.setdefault('a', 10)\n",
        "print(\"Valor retornado:\", valor_retornado)  # Saída: 1 (valor associado à chave 'a' antes da atualização)\n",
        "print(\"Dicionário atualizado:\", dicionario)  # Saída: {'a': 1, 'b': 2, 'c': 3}\n"
      ],
      "metadata": {
        "id": "pgedrwj26ynb"
      },
      "execution_count": null,
      "outputs": []
    },
    {
      "cell_type": "code",
      "source": [
        "# 59) Você está desenvolvendo um sistema de contagem de palavras em um texto e\n",
        "# precisa contar a ocorrência de palavras em um texto.\n",
        "# Crie um dicionário contendo apenas palavras como índices e o valor relacionado seja\n",
        "# a quantidade de vezes que aquele vocábulo foi encontrado no texto.\n",
        "\n",
        "texto = \"Este é um exemplo de texto. Este texto contém palavras repetidas, como exemplo.\"\n",
        "\n",
        "# Remover pontuações e converter todas as palavras para minúsculas\n",
        "texto = texto.lower().replace('.', '').replace(',', '')\n",
        "\n",
        "# Dividir o texto em palavras individuais\n",
        "palavras = texto.split()\n",
        "\n",
        "# Dicionário para armazenar a contagem de palavras\n",
        "contagem_palavras = {}\n",
        "\n",
        "# Contar a ocorrência de cada palavra\n",
        "for palavra in palavras:\n",
        "    if palavra in contagem_palavras:\n",
        "        contagem_palavras[palavra] += 1\n",
        "    else:\n",
        "        contagem_palavras[palavra] = 1\n",
        "\n",
        "# Exibir o dicionário de contagem de palavras\n",
        "print(\"Contagem de palavras:\")\n",
        "for palavra, contagem in contagem_palavras.items():\n",
        "    print(f\"{palavra}: {contagem}\")\n"
      ],
      "metadata": {
        "id": "KXuTXwSk7kbk"
      },
      "execution_count": null,
      "outputs": []
    },
    {
      "cell_type": "code",
      "source": [
        "# Refazendo a 59 com Dictionary Comprehension\n",
        "texto = \"Este é um exemplo de texto. Este texto contém palavras repetidas, como exemplo.\"\n",
        "\n",
        "# Remover pontuações e converter todas as palavras para minúsculas\n",
        "texto = texto.lower().replace('.', '').replace(',', '')\n",
        "\n",
        "# Dividir o texto em palavras individuais\n",
        "palavras = texto.split()\n",
        "\n",
        "# Usar uma compreensão de dicionário para contar a ocorrência de cada palavra\n",
        "contagem_palavras = {palavra: palavras.count(palavra) for palavra in set(palavras)}\n",
        "\n",
        "# Exibir o dicionário de contagem de palavras\n",
        "print(\"Contagem de palavras:\")\n",
        "for palavra, contagem in contagem_palavras.items():\n",
        "    print(f\"{palavra}: {contagem}\")\n"
      ],
      "metadata": {
        "id": "UqZ2MWGT_AuT"
      },
      "execution_count": null,
      "outputs": []
    },
    {
      "cell_type": "code",
      "source": [
        "# 60) Escreva um script para gerar e imprimir um dicionário que contenha números entre 1 e um inteiro 'n' no formato (x, x*x).\n",
        "# Exemplo ( n = 5)\n",
        "# Saída esperada : {1: 1, 2: 4, 3: 9, 4: 16, 5: 25}\n",
        "\n",
        "n=int(input(\"Digite um número inteiro: \"))\n",
        "\n",
        "# Usando uma compreensão de dicionário para gerar o dicionário\n",
        "dicionario = {x: x*x for x in range(1, n+1)}\n",
        "\n",
        "# Exibindo o dicionário gerado\n",
        "print(\"Dicionário gerado:\", dicionario)\n"
      ],
      "metadata": {
        "id": "HdbLkdKy9Yu1"
      },
      "execution_count": null,
      "outputs": []
    },
    {
      "cell_type": "code",
      "source": [
        "n=int(input(\"Digite n: \"))\n",
        "dicionario={}\n",
        "for i in range(1,n+1):\n",
        "  dicionario[i]=i**2\n",
        "\n",
        "print(dicionario)"
      ],
      "metadata": {
        "id": "ixr9eaCk-voI"
      },
      "execution_count": null,
      "outputs": []
    },
    {
      "cell_type": "code",
      "source": [
        "# Podemos desempacotar um dicionário dentro do comando FOR\n",
        "# através do uso do método dic.items()\n",
        "\n",
        "dicionario = {'a': 1, 'b': 2, 'c': 3}\n",
        "\n",
        "# Iterando sobre o dicionário e desempacotando os itens durante a iteração\n",
        "for chave, valor in dicionario.items():\n",
        "    print(f\"Chave: {chave}, Valor: {valor}\")\n"
      ],
      "metadata": {
        "id": "-l9Vr4Jg-wbi"
      },
      "execution_count": null,
      "outputs": []
    },
    {
      "cell_type": "code",
      "source": [
        "# Podemos passear em diferentes dicionários através da seguinte construção:\n",
        "dic1={1:10, 2:20}\n",
        "dic2={2:30, 4:40}\n",
        "dic3={5:50,6:60}\n",
        "\n",
        "for dicionario in (dic1, dic2, dic3):\n",
        "  for chave,valor in dicionario.items():\n",
        "    print(\"{}  :  {}\".format(chave,valor))"
      ],
      "metadata": {
        "id": "dZDcwpmr_Rby"
      },
      "execution_count": null,
      "outputs": []
    },
    {
      "cell_type": "code",
      "source": [
        "# Para saber se um dicionário tem certa chave, basta:\n",
        "dicionario={'chave':1, 'outra_chave':2}\n",
        "print('chave' in dicionario)\n",
        "print('Chave' in dicionario)"
      ],
      "metadata": {
        "colab": {
          "base_uri": "https://localhost:8080/"
        },
        "id": "IrRAeNuU_aXe",
        "outputId": "bfc1985e-6c53-4966-b8fd-80520414ebb8"
      },
      "execution_count": null,
      "outputs": [
        {
          "output_type": "stream",
          "name": "stdout",
          "text": [
            "True\n",
            "False\n"
          ]
        }
      ]
    },
    {
      "cell_type": "code",
      "source": [
        "#61) Concatene os dicionário seguintes e forme um dicionario unico;\n",
        "# dic1={1:10, 2:20}\n",
        "# dic2={2:30, 4:40}\n",
        "# dic3={5:50,6:60}\n",
        "# Observação: ocorrendo colisão, crie uma lista naquele índice.\n",
        "# Resultado: {1: 10, 2: [20, 30], 4: 40, 5: 50, 6: 60}\n",
        "\n",
        "dic1 = {1: 10, 2: 20}\n",
        "dic2 = {2: 30, 4: 40}\n",
        "dic3 = {5: 50, 6: 60}\n",
        "\n",
        "dic_fim = {}\n",
        "\n",
        "for dic in (dic1, dic2, dic3):\n",
        "    for chave, valor in dic.items():\n",
        "        if chave not in dic_fim:\n",
        "            dic_fim.update({chave: [valor]})\n",
        "        else:\n",
        "            lista = dic_fim[chave]\n",
        "            lista.append(valor)\n",
        "            dic_fim[chave] = lista\n",
        "\n",
        "print(\"Dicionário resultante:\", dic_fim)\n"
      ],
      "metadata": {
        "colab": {
          "base_uri": "https://localhost:8080/"
        },
        "id": "oEQpAAwI_ifA",
        "outputId": "42f221ff-825a-435d-e205-99bef251eeb7"
      },
      "execution_count": null,
      "outputs": [
        {
          "output_type": "stream",
          "name": "stdout",
          "text": [
            "Dicionário resultante: {1: [10], 2: [20, 30], 4: [40], 5: [50], 6: [60]}\n"
          ]
        }
      ]
    },
    {
      "cell_type": "code",
      "source": [
        "meu_dicionario = {'a': 1, 'b': 2, 'c': 3}\n",
        "\n",
        "# Excluindo a chave 'b' e sua informação associada\n",
        "del meu_dicionario['b']\n",
        "\n",
        "print(meu_dicionario)  # Saída: {'a': 1, 'c': 3}\n"
      ],
      "metadata": {
        "id": "NHd7pTLcA3kU"
      },
      "execution_count": null,
      "outputs": []
    },
    {
      "cell_type": "code",
      "source": [
        "#62) A partir de um dicionário de chaves inteiras, escreva um script para excluir chaves ímpare, caso hajam.\n",
        "dicionario={i: i**2 for i in range(10)}\n",
        "\n",
        "for chave in tuple(dicionario.keys()):\n",
        "  if chave%2!=0:\n",
        "    del dicionario[chave]\n",
        "\n",
        "print(dicionario)"
      ],
      "metadata": {
        "colab": {
          "base_uri": "https://localhost:8080/"
        },
        "id": "Gzxu7fkdA-4E",
        "outputId": "345dc1c1-69bf-4bf2-835c-24cc4da424d7"
      },
      "execution_count": null,
      "outputs": [
        {
          "output_type": "stream",
          "name": "stdout",
          "text": [
            "{0: 0, 2: 4, 4: 16, 6: 36, 8: 64}\n"
          ]
        }
      ]
    },
    {
      "cell_type": "code",
      "source": [
        "chaves = ['a', 'b', 'c']\n",
        "valores = [1, 2, 3]\n",
        "\n",
        "# Usando zip() para combinar as duas listas em pares de chave-valor e criando um dicionário\n",
        "dicionario = dict(zip(chaves, valores))\n",
        "\n",
        "print(dicionario)  # Saída: {'a': 1, 'b': 2, 'c': 3}\n"
      ],
      "metadata": {
        "id": "MtqCjtR1Bua3"
      },
      "execution_count": null,
      "outputs": []
    },
    {
      "cell_type": "code",
      "source": [
        "# 63) Você tem uma lista de filmes e suas classificações em duas listas separdas.\n",
        "# Crie um dicionário com nome do filme como chave e a classificação como valor.\n",
        "# Depois imprima na tela apenas o nome e a classificação dos filmes acima da\n",
        "# média.\n",
        "titulos_filmes = ['Filme A', 'Filme B', 'Filme C', 'Filme D', 'Filme E', 'Filme F']\n",
        "classificacoes = [4.5, 3.8, 4.2, 5.0, 2.3, 3.3]\n",
        "\n",
        "# Criando o dicionário com nome do filme como chave e a classificação como valor\n",
        "dic_filmes = dict(zip(titulos_filmes, classificacoes))\n",
        "\n",
        "# Calculando a média das classificações\n",
        "media_classificacoes = sum(classificacoes) / len(classificacoes)\n",
        "\n",
        "# Imprimindo na tela apenas o nome e a classificação dos filmes acima da média\n",
        "print(\"Filmes acima da média:\")\n",
        "for filme, classificacao in dic_filmes.items():\n",
        "    if classificacao > media_classificacoes:\n",
        "        print(f\"{filme}: {classificacao}\")\n"
      ],
      "metadata": {
        "id": "kgatiai-Bv-U"
      },
      "execution_count": null,
      "outputs": []
    },
    {
      "cell_type": "code",
      "source": [
        "# Podemos escreva um programa para imprimir um dicionário ordenado por suas chaves.\n",
        "\n",
        "dicionario_cores = {\n",
        "    'vermelho': '#FF0000',\n",
        "    'verde': '#008000',\n",
        "    'preto': '#000000',\n",
        "    'branco': '#FFFFFF'\n",
        "}\n",
        "\n",
        "# Iterando sobre as chaves ordenadas do dicionário e imprimindo os pares chave-valor\n",
        "for chave in sorted(dicionario_cores):\n",
        "    print(f'{chave} : {dicionario_cores[chave]}')\n"
      ],
      "metadata": {
        "colab": {
          "base_uri": "https://localhost:8080/"
        },
        "id": "CJNmQT_ACJpt",
        "outputId": "d2e73204-db8d-4a20-a960-e9b23c80b950"
      },
      "execution_count": null,
      "outputs": [
        {
          "output_type": "stream",
          "name": "stdout",
          "text": [
            "branco : #FFFFFF\n",
            "preto : #000000\n",
            "verde : #008000\n",
            "vermelho : #FF0000\n"
          ]
        }
      ]
    },
    {
      "cell_type": "code",
      "source": [
        "# 64) Crie uma função para receber dois números e imprimir na tela a soma entre\n",
        "# eles no formato número1 + número2 = número_resultado.\n",
        "\n",
        "def soma(n1,n2):\n",
        "  print(f'{n1} + {n2} = {n1+n2:.2f}')\n",
        "\n",
        "soma(8,4)"
      ],
      "metadata": {
        "id": "VQQWbUOLRRi0"
      },
      "execution_count": null,
      "outputs": []
    },
    {
      "cell_type": "code",
      "source": [
        "# 65) Sabendo que velocidade= distância/ tempo, crie uma função\n",
        "# para receber ditância e tempo e imprimir na tela a velocidade.\n",
        "# velocidade(dist, temp)\n",
        "# A velocidade é {}.\n",
        "\n",
        "def velocidade(distancia, tempo):\n",
        "    # Calcula a velocidade\n",
        "    velocidade = distancia / tempo\n",
        "    # Imprime a velocidade formatada na tela\n",
        "    print(\"A velocidade é {:.2f}.\".format(velocidade))\n",
        "\n",
        "# Exemplo de uso da função\n",
        "velocidade(100, 2)  # Chamando a função com distância = 100 e tempo = 2\n"
      ],
      "metadata": {
        "id": "XU9P4YOmR_zk"
      },
      "execution_count": null,
      "outputs": []
    },
    {
      "cell_type": "code",
      "source": [
        "# Funções built-in\n",
        "# sorted() retorna uma lista ordenada, mas NÃO modifica a lista original.\n",
        "\n",
        "lista_original = [3, 1, 4, 1, 5, 9, 2, 6, 5, 3, 5]\n",
        "\n",
        "# Usando sorted() para ordenar a lista original\n",
        "lista_ordenada = sorted(lista_original)\n",
        "lista_ordenada_desc = sorted(lista_original, reverse=True)\n",
        "\n",
        "print(\"Lista original:\", lista_original)  # Saída: [3, 1, 4, 1, 5, 9, 2, 6, 5, 3, 5]\n",
        "print(\"Lista ordenada:\", lista_ordenada)  # Saída: [1, 1, 2, 3, 3, 4, 5, 5, 5, 6, 9]\n",
        "print(\"Lista ordenada descrecente:\", lista_ordenada_desc)\n"
      ],
      "metadata": {
        "id": "IbgzIb55SGaq"
      },
      "execution_count": null,
      "outputs": []
    },
    {
      "cell_type": "code",
      "source": [
        "# 66) Crie um programa em python para receber uma lista de valores naturais\n",
        "# parando de receber ao ser digitado um valor não natural. Após isso, imprima na\n",
        "# tela a relação de números do maior para o menor.\n",
        "\n",
        "# Função para verificar se um valor é natural\n",
        "def eh_natural(valor):\n",
        "    return isinstance(valor, int) and valor > 0\n",
        "\n",
        "# Lista para armazenar os valores naturais\n",
        "valores = []\n",
        "\n",
        "# Loop para receber os valores naturais\n",
        "while True:\n",
        "    entrada = input(\"Digite um valor natural (ou algo não natural para parar): \")\n",
        "    if not entrada.isdigit():  # Se a entrada não for um número natural, pare o loop\n",
        "        break\n",
        "    valor = int(entrada)\n",
        "    if eh_natural(valor):\n",
        "        valores.append(valor)\n",
        "\n",
        "# Ordena os valores em ordem decrescente\n",
        "valores.sort(reverse=True)\n",
        "\n",
        "# Imprime os valores em ordem decrescente\n",
        "print(\"Valores em ordem decrescente:\")\n",
        "for valor in valores:\n",
        "    print(valor)\n"
      ],
      "metadata": {
        "id": "ZIPYI6JcSy5U"
      },
      "execution_count": null,
      "outputs": []
    },
    {
      "cell_type": "code",
      "source": [
        "# Ordenar um dicionário equivale a ordenar apenas as chaves em uma lista.\n",
        "\n",
        "dicionario = {'b': 2, 'c': 3, 'a': 1}\n",
        "\n",
        "# Ordenando o dicionário por suas chaves\n",
        "chaves_ordenadas = sorted(dicionario)\n",
        "\n",
        "print(\"Chaves ordenadas:\", chaves_ordenadas)  # Saída: ['a', 'b', 'c']\n"
      ],
      "metadata": {
        "id": "-qoGLypMTTSS"
      },
      "execution_count": null,
      "outputs": []
    },
    {
      "cell_type": "code",
      "source": [
        "# Função built-in len() ==> length (comprimento)\n",
        "# Comprimento de um dicionário é a quantidade de entradas\n",
        "# no dicionário.\n",
        "\n",
        "dicionario = {'a': 1, 'b': 2, 'c': 3}\n",
        "\n",
        "# Usando a função len() para obter o comprimento do dicionário\n",
        "comprimento = len(dicionario)\n",
        "\n",
        "print(\"Comprimento do dicionário:\", comprimento)  # Saída: 3\n"
      ],
      "metadata": {
        "id": "n2nRYdf9TePD"
      },
      "execution_count": null,
      "outputs": []
    },
    {
      "cell_type": "code",
      "source": [
        "# Função built-in max() ==> máximo entre os elementos\n",
        "# Máximo de um dicionário é o valor de chave máxima.\n",
        "\n",
        "dicionario = {'a': 10, 'b': 20, 'c': 30}\n",
        "\n",
        "# Usando a função max() para encontrar a chave máxima do dicionário\n",
        "chave_maxima = max(dicionario)\n",
        "\n",
        "print(\"Chave máxima do dicionário:\", chave_maxima)  # Saída: 'c'\n"
      ],
      "metadata": {
        "id": "tUuLw0jZTiQ8"
      },
      "execution_count": null,
      "outputs": []
    },
    {
      "cell_type": "code",
      "source": [
        "# Função built-in min() ==> mínimo entre os elementos\n",
        "# Mínimo de um dicionário é o menor valor de chave.\n",
        "\n",
        "dicionario = {'b': 20, 'a': 10, 'c': 30}\n",
        "\n",
        "# Usando a função min() para encontrar a chave mínima do dicionário\n",
        "chave_minima = min(dicionario)\n",
        "\n",
        "print(\"Chave mínima do dicionário:\", chave_minima)  # Saída: 'a'\n"
      ],
      "metadata": {
        "id": "8uPtR80-TmOz"
      },
      "execution_count": null,
      "outputs": []
    },
    {
      "cell_type": "code",
      "source": [
        "# Criando funções com parâmetros opcionais.\n",
        "\n",
        "def saudacao(nome, saudacao_padrao='Olá'):\n",
        "    print(f'{saudacao_padrao}, {nome}!')\n",
        "\n",
        "# Chamando a função sem fornecer o parâmetro opcional\n",
        "saudacao('Maria')  # Saída: Olá, Maria!\n",
        "\n",
        "# Chamando a função fornecendo um valor diferente para o parâmetro opcional\n",
        "saudacao('João', 'Oi')  # Saída: Oi, João!\n"
      ],
      "metadata": {
        "id": "2rzWDhQYTypY"
      },
      "execution_count": null,
      "outputs": []
    },
    {
      "cell_type": "code",
      "source": [
        "# 67) Crie uma função para retornar o fatorial de um número.\n",
        "\n",
        "def fatorial(n):\n",
        "    if n == 0:\n",
        "        return 1\n",
        "    else:\n",
        "        return n * fatorial(n - 1)\n",
        "\n",
        "# Exemplo de uso da função\n",
        "numero = 5\n",
        "resultado = fatorial(numero)\n",
        "print(f'O fatorial de {numero} é {resultado}')\n"
      ],
      "metadata": {
        "id": "qu29v-56T_8X"
      },
      "execution_count": null,
      "outputs": []
    },
    {
      "cell_type": "code",
      "source": [
        "# 68) Como calcular um número qualquer na sequência de Fibonacci?\n",
        "# [0]:0, [1]:1, [2]:1, [3]:2, [4]:3, [5]:5, [6]:8 ...\n",
        "\n",
        "def fibonacci (valor):\n",
        "  if valor <=1:\n",
        "    return valor\n",
        "  else:\n",
        "    return fibonacci(valor-1) + fibonacci (valor -2)\n",
        "\n",
        "num = int(input('Digite um valor:'))\n",
        "fibonacci(num)"
      ],
      "metadata": {
        "id": "qTK6yXe8Wezb"
      },
      "execution_count": null,
      "outputs": []
    },
    {
      "cell_type": "code",
      "source": [
        "# 69) A sequência de Fibonacci é usada para calcular um\n",
        "# número aproximado da proporção áurea. Para encontrá-lo\n",
        "# basta dividir o fib(n)/fib(n-1).\n",
        "# Crie um programa calcular a proporção áurea com duas casas\n",
        "# decimais de aproximação.\n",
        "\n",
        "def fibonacci (valor):\n",
        "  if valor <=1:\n",
        "    return valor\n",
        "  else:\n",
        "    return fibonacci(valor-1) + fibonacci (valor -2)\n",
        "\n",
        "num = int(input('Digite um valor:'))\n",
        "resp=fibonacci(num)/fibonacci(num-1)\n",
        "print(resp)\n"
      ],
      "metadata": {
        "id": "tCIJHskbWgs1"
      },
      "execution_count": null,
      "outputs": []
    },
    {
      "cell_type": "code",
      "source": [
        "#Podemos retornar mais de uma variável TUPLA\n",
        "def soma_e_subtracao(a, b):\n",
        "    soma = a + b\n",
        "    subtracao = a - b\n",
        "    return soma, subtracao\n",
        "\n",
        "resultado = soma_e_subtracao(5, 3)\n",
        "print(\"Resultado da soma:\", resultado[0])\n",
        "print(\"Resultado da subtração:\", resultado[1])\n"
      ],
      "metadata": {
        "id": "JcQBtFSIWinN"
      },
      "execution_count": null,
      "outputs": []
    },
    {
      "cell_type": "code",
      "source": [
        "#Podemos retornar mais de uma variável LISTA\n",
        "def calcular_media(valores):\n",
        "    soma = sum(valores)\n",
        "    media = soma / len(valores)\n",
        "    return [soma, media]\n",
        "\n",
        "resultado = calcular_media([10, 20, 30])\n",
        "print(\"Soma dos valores:\", resultado[0])\n",
        "print(\"Média dos valores:\", resultado[1])"
      ],
      "metadata": {
        "id": "bI-or0PWWklM"
      },
      "execution_count": null,
      "outputs": []
    },
    {
      "cell_type": "code",
      "source": [
        "#Podemos retornar mais de uma variável DICIONARIO\n",
        "def calcular_operacoes(a, b):\n",
        "    return {'soma': a + b, 'produto': a * b}\n",
        "\n",
        "resultado = calcular_operacoes(4, 5)\n",
        "print(\"Soma:\", resultado['soma'])\n",
        "print(\"Produto:\", resultado['produto'])\n"
      ],
      "metadata": {
        "id": "CuqyBOX_WmRT"
      },
      "execution_count": null,
      "outputs": []
    },
    {
      "cell_type": "code",
      "source": [
        "# 70) Uma empresa de análise de dados está avaliando o desempenho\n",
        "# de diferentes produtos ao longo do tempo. Eles coletaram dados\n",
        "# de vendas mensais para cada produto e agora precisam calcular a\n",
        "# média, variância e desvio padrão das vendas para determinar a\n",
        "# estabilidade das vendas de cada produto.\n",
        "# Com base em uma lista de números recebidos do teclado, faça um\n",
        "# programa para calcular e exibir na tela a média, variância e o\n",
        "# desvio padrão de um dado produto.\n",
        "# Obs: Crie uma função que retorne a média, a variância e desvio padrão.\n",
        "\n",
        "import statistics\n",
        "\n",
        "def calcular_estatisticas(lista):\n",
        "    media = statistics.mean(lista)\n",
        "    variancia = statistics.variance(lista)\n",
        "    desvio_padrao = statistics.stdev(lista)\n",
        "    return media, variancia, desvio_padrao\n",
        "\n",
        "# Lista de números fornecida pelo usuário\n",
        "lista = [1, 3, 6, 80]\n",
        "\n",
        "# Chamando a função para calcular as estatísticas\n",
        "media, variancia, desvio_padrao = calcular_estatisticas(lista)\n",
        "\n",
        "# Exibindo os resultados na tela\n",
        "print(\"Média:\", media)\n",
        "print(\"Variância:\", variancia)\n",
        "print(\"Desvio Padrão:\", desvio_padrao)\n"
      ],
      "metadata": {
        "id": "9FDmtYwTWwVb"
      },
      "execution_count": null,
      "outputs": []
    },
    {
      "cell_type": "code",
      "source": [
        "# Funções de uma linha\n",
        "\n",
        "#Exemplo:\n",
        "\n",
        "def quadrado(num):\n",
        "  return num**2\n",
        "\n",
        "def raiz_quadrada(num):\n",
        "  return num**(1/2)\n",
        "\n",
        "numero=float(input(\"Digite um número: \"))\n",
        "print(f\"{numero} ao quadrado é {quadrado(numero)}\")\n",
        "print(f\"Raiz quadrada de {numero} é {raiz_quadrada(numero)}\")"
      ],
      "metadata": {
        "id": "cjWliwmZXDLQ"
      },
      "execution_count": null,
      "outputs": []
    },
    {
      "cell_type": "code",
      "source": [
        "# Podemos criar uma função de uma linha\n",
        "# usando a notação lambda.\n",
        "\n",
        "raiz_3 = lambda x: x ** (1/3)\n",
        "\n",
        "resultado = raiz_3(27)  # Chama a função lambda com o argumento 27\n",
        "print(resultado)  # Isso imprimirá 3"
      ],
      "metadata": {
        "id": "K1z_jXfhXJEe"
      },
      "execution_count": null,
      "outputs": []
    },
    {
      "cell_type": "code",
      "source": [
        "# Mas o contexto que é mais produtivo utilizar a notação lambda\n",
        "# é quando queremos criar uma função para um uso específico\n",
        "# sem ter que dar um nome a ela.\n",
        "\n",
        "# Daí o termo função anônima ou função lambda.\n",
        "\n",
        "lista=[i for i in range(10)]\n",
        "print(lista)\n",
        "print(list(map(lambda x: x**2,lista)))\n",
        "\n",
        "# O método built-in map() recebe uma função como parâmetro e\n",
        "# a estrutura de dado que será percorrida aplicando aquela função\n",
        "# repassada."
      ],
      "metadata": {
        "id": "JyWVjOK1XL1Z"
      },
      "execution_count": null,
      "outputs": []
    },
    {
      "cell_type": "code",
      "source": [
        "# 71) Receba uma lista de alturas de pessoas em uma sala expressa em metros.\n",
        "# Transforme a unidade de cada valor da lista em pés.\n",
        "# Obs: Escreva um programa em Python que realiza essa tarefa usando a função map.\n",
        "\n",
        "# Lista de alturas em metros\n",
        "alturas_metros = [1.75, 1.80, 1.65, 1.90]\n",
        "\n",
        "# Aplicando uma expressão lambda para converter metros para pés usando map\n",
        "alturas_pes = list(map(lambda x: x * 3.28084, alturas_metros))\n",
        "\n",
        "# Exibindo as alturas em pés\n",
        "print(\"Alturas em pés:\", alturas_pes)\n",
        "\n"
      ],
      "metadata": {
        "id": "zBhdhps8XYGe"
      },
      "execution_count": null,
      "outputs": []
    },
    {
      "cell_type": "code",
      "source": [
        "numeros = [1, 2, 3, 4, 5]\n",
        "quadrados = map(lambda x: x ** 2, numeros)\n",
        "resultado = list(quadrados)\n",
        "print(resultado)  # Saída: [1, 4, 9, 16, 25]\n"
      ],
      "metadata": {
        "id": "8BoNofaZYkGK"
      },
      "execution_count": null,
      "outputs": []
    },
    {
      "cell_type": "code",
      "source": [
        "# 72) Você foi contratado pela Venturus Energia Eólica para\n",
        "# desenvolver um programa crucial na análise de dados de\n",
        "# velocidade do vento. A empresa coleta informações sobre a\n",
        "# velocidade do vento em suas turbinas eólicas para determinar\n",
        "# a potência gerada. O seu objetivo é criar um programa que\n",
        "# receba uma lista de valores de velocidade do vento inseridos\n",
        "# pelo usuário e, em seguida, calcular os pares ordenados (x, y)\n",
        "# que representam a relação entre a velocidade do vento (x) e\n",
        "# a potência gerada (y). Considere que a função para calcular\n",
        "# a potência gerada é uma função quadrática, onde os coeficientes\n",
        "# são a = 1, b = 1 e c = 1. O programa deve imprimir esses\n",
        "# pares ordenados para o intervalo de valores de velocidade do\n",
        "# vento recebidos. Isso ajudará a empresa a compreender melhor\n",
        "# a relação entre a velocidade do vento e a potência gerada\n",
        "# em suas turbinas eólicas.\n"
      ],
      "metadata": {
        "id": "nAHYhgb8YtiE"
      },
      "execution_count": null,
      "outputs": []
    },
    {
      "cell_type": "code",
      "source": [
        "# Podemos ordenar uma lista de tuplas pelo segundo elemento de cada tupla\n",
        "lista_de_tuplas = [(1, 5), (2, 3), (3, 8), (4, 1)]\n",
        "\n",
        "lista_ordenada = sorted(lista_de_tuplas, key=lambda x: x[1])\n",
        "\n",
        "print(lista_ordenada)  # Saída: [(4, 1), (2, 3), (1, 5), (3, 8)]\n"
      ],
      "metadata": {
        "id": "hgOeiGbnYuB8"
      },
      "execution_count": null,
      "outputs": []
    },
    {
      "cell_type": "code",
      "source": [
        "# Podemos filtrar números pares de uma lista\n",
        "lista_de_numeros = [1, 2, 3, 4, 5, 6, 7, 8, 9, 10]\n",
        "\n",
        "pares = list(filter(lambda x: x % 2 == 0, lista_de_numeros))\n",
        "\n",
        "print(pares)  # Saída: [2, 4, 6, 8, 10]\n"
      ],
      "metadata": {
        "id": "Um2WjvGaY7Fx"
      },
      "execution_count": null,
      "outputs": []
    },
    {
      "cell_type": "code",
      "source": [
        "# 74) Você foi incumbido de desenvolver um programa para\n",
        "# auxiliar na organização das notas dos alunos de uma escola.\n",
        "# O programa deve receber o nome completo e a nota de vários\n",
        "# alunos pelo teclado, organizando-os em uma lista de tuplas.\n",
        "# Cada tupla contém o nome do aluno como primeiro elemento e\n",
        "# sua pontuação como segundo elemento. Em seguida, você deve\n",
        "# escrever uma função em Python que filtra os alunos que\n",
        "# obtiveram uma pontuação acima de 7.0 e os armazena em uma\n",
        "# nova lista, retornando-as. A lista retornada deve ser\n",
        "# impressa na tela, exibindo o nome do aluno seguido por\n",
        "# sua nota, em ordem alfabética.\n",
        "\n",
        "def filtrar_notas_acima_de_7(alunos):\n",
        "    # Filtra os alunos com notas acima de 7\n",
        "    alunos_acima_de_7 = filter(lambda aluno: aluno[1] > 7.0, alunos)\n",
        "    # Ordena os alunos filtrados por nome em ordem alfabética\n",
        "    alunos_ordenados = sorted(alunos_acima_de_7, key=lambda aluno: aluno[0])\n",
        "    return alunos_ordenados\n",
        "\n",
        "# Recebe o nome e a nota de vários alunos\n",
        "alunos = []\n",
        "while True:\n",
        "    nome = input(\"Digite o nome completo do aluno (ou 'sair' para encerrar): \")\n",
        "    if nome.lower() == 'sair':\n",
        "        break\n",
        "    nota = float(input(\"Digite a nota do aluno: \"))\n",
        "    alunos.append((nome, nota))\n",
        "\n",
        "# Filtra e ordena os alunos com notas acima de 7\n",
        "alunos_acima_de_7 = filtrar_notas_acima_de_7(alunos)\n",
        "\n",
        "# Imprime os alunos filtrados\n",
        "print(\"Alunos com notas acima de 7.0:\")\n",
        "for aluno in alunos_acima_de_7:\n",
        "    print(f\"{aluno[0]}: {aluno[1]}\")\n"
      ],
      "metadata": {
        "id": "YrsG4mCPZMGs"
      },
      "execution_count": null,
      "outputs": []
    },
    {
      "cell_type": "code",
      "source": [
        "# Usando \"filter\", filtre todas as vogais de uma dado string.\n",
        "string='Maria Clara Batista da Silva'\n",
        "\n",
        "list(filter(lambda letra: letra.lower() in list('aeiou'),string))"
      ],
      "metadata": {
        "colab": {
          "base_uri": "https://localhost:8080/"
        },
        "id": "3aj59dN6QTPK",
        "outputId": "c97387c5-9696-4e0c-9b3f-09b611fb187a"
      },
      "execution_count": null,
      "outputs": [
        {
          "output_type": "execute_result",
          "data": {
            "text/plain": [
              "['a', 'i', 'a', 'a', 'a', 'a', 'i', 'a', 'a', 'i', 'a']"
            ]
          },
          "metadata": {},
          "execution_count": 1
        }
      ]
    },
    {
      "cell_type": "code",
      "source": [
        "# 75) Você tem uma lista de contatos em forma de dicionário como se segue.\n",
        "# Faça um programa para filtrar apenas aqueles com e-mails válidos.\n",
        "\n",
        "contatos = [\n",
        "    {'nome': 'João', 'email': 'joao@example.com'},\n",
        "    {'nome': 'Maria', 'email': 'maria@.com'},\n",
        "    {'nome': 'Carlos', 'email': 'carlos@gmail.com'},\n",
        "    {'nome': 'Ana', 'email': 'ana123@yahoo.com'},\n",
        "    {'nome': 'Pedro', 'email': 'pedro@outlook.com'},\n",
        "    {'nome': 'Laura', 'email': 'laura@'},\n",
        "]\n",
        "\n",
        "def eh_email(contato):\n",
        "    # Verifica se o e-mail possui o formato adequado\n",
        "    if '@' in contato['email']:\n",
        "        username, dominio = contato['email'].split('@')\n",
        "        return '.' in dominio and dominio.index('.') > 0\n",
        "    return False\n",
        "\n",
        "contatos_com_email_valido = list(filter(eh_email, contatos))\n",
        "\n",
        "print(\"Contatos com endereços de e-mail válidos:\")\n",
        "for contato in contatos_com_email_valido:\n",
        "    print(f\"Nome: {contato['nome']}, E-mail: {contato['email']}\")"
      ],
      "metadata": {
        "id": "usHFg5w4Qyhq"
      },
      "execution_count": null,
      "outputs": []
    },
    {
      "cell_type": "code",
      "source": [
        "# DICA:\n",
        "# Uma idea bacana do uso de map para pegar dois números do teclado:\n",
        "a,b=map(int, input('Digite dois números: ').split(' '))\n",
        "\n",
        "print(f'{a} + {b} = {a+b}')"
      ],
      "metadata": {
        "colab": {
          "base_uri": "https://localhost:8080/"
        },
        "id": "phEah3I3R8NW",
        "outputId": "df9bac2a-2e13-4abe-d3a2-c36a397d2216"
      },
      "execution_count": null,
      "outputs": [
        {
          "output_type": "stream",
          "name": "stdout",
          "text": [
            "Digite dois números: 2 3\n",
            "2 + 3 = 5\n"
          ]
        }
      ]
    },
    {
      "cell_type": "code",
      "source": [
        "# 76) Receba uma lista de pesos separadas por espaço\n",
        "# diretamente do teclado e crie uma lista de floats.\n",
        "\n",
        "lista_floats=list(map(float, input('Digite números separados por espaço: ').split(' ')))\n",
        "print(lista_floats)"
      ],
      "metadata": {
        "colab": {
          "base_uri": "https://localhost:8080/"
        },
        "id": "zYpMUtMiS88h",
        "outputId": "dde300d5-2ddc-4bd9-e261-096013b10eb0"
      },
      "execution_count": null,
      "outputs": [
        {
          "output_type": "stream",
          "name": "stdout",
          "text": [
            "Digite números separados por espaço: 1.5 2.3 6.9\n",
            "[1.5, 2.3, 6.9]\n"
          ]
        }
      ]
    },
    {
      "cell_type": "code",
      "source": [
        "## FUNÇÕES DE ORDEM SUPERIOR\n",
        "## HIGH ORDER FUNCTION\n",
        "# Funções que recebem e/ou retornam funções.\n",
        "# Ou seja, manipula funções como se fossem qualquer outro objeto.\n",
        "\n",
        "# Podemos criar uma\n",
        "def funcao_superior(tipo):\n",
        "  # Aqui dentro você cria a sua função.\n",
        "  def funcao_manipulada(val):\n",
        "    return type(val)==tipo\n",
        "\n",
        "  # Depois você retorna ela.\n",
        "  return funcao_manipulada\n",
        "\n",
        "eh_int=funcao_superior(int)\n",
        "eh_float=funcao_superior(float)\n",
        "\n",
        "eh_int(3.4)"
      ],
      "metadata": {
        "id": "it2yTjXMTeQI"
      },
      "execution_count": null,
      "outputs": []
    },
    {
      "cell_type": "code",
      "source": [
        "# Função de ordem superior que aplica uma função a cada elemento de uma lista\n",
        "def aplicar_funcao_a_lista(funcao, lista):\n",
        "    return [funcao(elemento) for elemento in lista]\n",
        "\n",
        "# Função que retorna o quadrado de um número\n",
        "def quadrado(x):\n",
        "    return x * x\n",
        "\n",
        "# Lista de números\n",
        "numeros = [1, 2, 3, 4, 5]\n",
        "\n",
        "# Aplicar a função quadrado a cada elemento da lista usando a função de ordem superior\n",
        "quadrados = aplicar_funcao_a_lista(quadrado, numeros)\n",
        "\n",
        "print(quadrados)  # Saída: [1, 4, 9, 16, 25]\n"
      ],
      "metadata": {
        "id": "C9294chYUkRc"
      },
      "execution_count": null,
      "outputs": []
    },
    {
      "cell_type": "code",
      "source": [
        "# Criando a sua função filter.\n",
        "# Desta vez, faça ela retornar o\n",
        "# resultado em uma lista.\n",
        "\n",
        "def filtrar(funcao, dados):\n",
        "  return [elemento for elemento in dados if funcao(elemento)]\n",
        "\n",
        "\n",
        "lista=['1',2,'3',4,'5']\n",
        "\n",
        "\n",
        "lista_inteiros=filtrar(lambda x:type(x)==int, lista)\n",
        "print(lista_inteiros)"
      ],
      "metadata": {
        "id": "QUfzcHH3UpTS"
      },
      "execution_count": null,
      "outputs": []
    },
    {
      "cell_type": "code",
      "source": [
        "def minha_filter(funcao_teste, iteravel):\n",
        "    \"\"\"\n",
        "    Função que simula o comportamento da função embutida filter,\n",
        "    porém retorna o resultado em uma lista.\n",
        "\n",
        "    Parâmetros:\n",
        "    - funcao_teste: A função de teste que será aplicada a cada elemento do iterável.\n",
        "    - iteravel: O iterável (lista, tupla, etc.) a ser filtrado.\n",
        "\n",
        "    Retorna:\n",
        "    - Uma lista contendo os elementos do iterável para os quais a função de teste retorna True.\n",
        "    \"\"\"\n",
        "    resultado = []\n",
        "    for elemento in iteravel:\n",
        "        if funcao_teste(elemento):\n",
        "            resultado.append(elemento)\n",
        "    return resultado\n",
        "\n",
        "# Função de teste para filtrar números pares\n",
        "def eh_par(numero):\n",
        "    return numero % 2 == 0\n",
        "\n",
        "# Lista de números\n",
        "numeros = [1, 2, 3, 4, 5, 6, 7, 8, 9, 10]\n",
        "\n",
        "# Filtrando números pares usando a função personalizada minha_filter\n",
        "pares = minha_filter(eh_par, numeros)\n",
        "\n",
        "print(pares)  # Saída: [2, 4, 6, 8, 10]\n"
      ],
      "metadata": {
        "id": "K3PqLTf4VDwE"
      },
      "execution_count": null,
      "outputs": []
    },
    {
      "cell_type": "code",
      "source": [
        "# 77) Criando seu própria função map chamada mapear(funcao, iteravel).\n",
        "# Desta vez, faça ela retornar o\n",
        "# resultado em uma lista.\n",
        "\n",
        "def mapear(funcao, iteravel):\n",
        "    \"\"\"\n",
        "    Função que simula o comportamento da função embutida map,\n",
        "    porém retorna o resultado em uma lista.\n",
        "\n",
        "    Parâmetros:\n",
        "    - funcao: A função que será aplicada a cada elemento do iterável.\n",
        "    - iteravel: O iterável (lista, tupla, etc.) a ser mapeado.\n",
        "\n",
        "    Retorna:\n",
        "    - Uma lista contendo os resultados da aplicação da função a cada elemento do iterável.\n",
        "    \"\"\"\n",
        "    return [funcao(elemento) for elemento in iteravel]\n",
        "\n",
        "# Função que retorna o quadrado de um número\n",
        "def quadrado(x):\n",
        "    return x * x\n",
        "\n",
        "# Lista de números\n",
        "numeros = [1, 2, 3, 4, 5]\n",
        "\n",
        "# Mapeando a função quadrado para cada elemento da lista usando a função personalizada mapear\n",
        "quadrados = mapear(quadrado, numeros)\n",
        "\n",
        "print(quadrados)  # Saída: [1, 4, 9, 16, 25]\n",
        "\n"
      ],
      "metadata": {
        "id": "biVmsW8ZVFOj"
      },
      "execution_count": null,
      "outputs": []
    },
    {
      "cell_type": "code",
      "source": [
        "# Fazendo uma função para criar funções específicas com\n",
        "# base em um comportamento desejado.\n",
        "# Criando uma calculadora para fazer\n",
        "# as quatro operações matemáticas básicas.\n",
        "\n",
        "\n",
        "def calcula(opera):\n",
        "  match(opera):\n",
        "    case '+':\n",
        "      def soma(a,b):\n",
        "        return a+b\n",
        "      return soma\n",
        "    case '-':\n",
        "      def sub(a,b):\n",
        "        return a-b\n",
        "      return sub\n",
        "    case '*':\n",
        "      def mult(a,b):\n",
        "        return a*b\n",
        "      return mult\n",
        "    case '/':\n",
        "      def div(a,b):\n",
        "        return a/b\n",
        "      return div\n",
        "\n",
        "print(calcula('/')(2,3))"
      ],
      "metadata": {
        "id": "3TpjN2czVs9W"
      },
      "execution_count": null,
      "outputs": []
    },
    {
      "cell_type": "code",
      "source": [
        "# 78) Vamos criar uma função que retorna uma função para criptografar e\n",
        "# outra para descriptografar mensagens usando o algoritmo de cifra de César.\n",
        "# A cifra de César é um método de criptografia simples em que cada letra\n",
        "# em um texto é deslocada por um número fixo de posições no alfabeto.\n",
        "\n",
        "#Observação: ignore qualquer outro caracter que não seja letras.\n",
        "\n",
        "def criar_criptografia_cesar(deslocamento):\n",
        "    \"\"\"\n",
        "    Função que cria funções para criptografar e descriptografar mensagens\n",
        "    usando o algoritmo de cifra de César.\n",
        "\n",
        "    Parâmetros:\n",
        "    - deslocamento: O número de posições a serem deslocadas no alfabeto.\n",
        "\n",
        "    Retorna:\n",
        "    - Uma tupla contendo duas funções: uma para criptografar e outra para descriptografar mensagens.\n",
        "    \"\"\"\n",
        "\n",
        "    def criptografar_mensagem(mensagem):\n",
        "        mensagem_criptografada = \"\"\n",
        "        for char in mensagem:\n",
        "            if char.isalpha():\n",
        "                char_deslocado = chr(((ord(char) - 65 + deslocamento) % 26) + 65) if char.isupper() else chr(((ord(char) - 97 + deslocamento) % 26) + 97)\n",
        "                mensagem_criptografada += char_deslocado\n",
        "            else:\n",
        "                mensagem_criptografada += char\n",
        "        return mensagem_criptografada\n",
        "\n",
        "    def descriptografar_mensagem(mensagem_criptografada):\n",
        "        mensagem_descriptografada = \"\"\n",
        "        for char in mensagem_criptografada:\n",
        "            if char.isalpha():\n",
        "                char_deslocado = chr(((ord(char) - 65 - deslocamento) % 26) + 65) if char.isupper() else chr(((ord(char) - 97 - deslocamento) % 26) + 97)\n",
        "                mensagem_descriptografada += char_deslocado\n",
        "            else:\n",
        "                mensagem_descriptografada += char\n",
        "        return mensagem_descriptografada\n",
        "\n",
        "    return criptografar_mensagem, descriptografar_mensagem\n",
        "\n",
        "# Criando funções para criptografar e descriptografar mensagens usando cifra de César com deslocamento de 3 posições\n",
        "criptografar, descriptografar = criar_criptografia_cesar(3)\n",
        "\n",
        "# Testando as funções\n",
        "mensagem_original = \"Hello, World!\"\n",
        "mensagem_criptografada = criptografar(mensagem_original)\n",
        "print(\"Mensagem criptografada:\", mensagem_criptografada)  # Saída: Khoor, Zruog!\n",
        "mensagem_descriptografada = descriptografar(mensagem_criptografada)\n",
        "print(\"Mensagem descriptografada:\", mensagem_descriptografada)  # Saída: Hello, World!\n"
      ],
      "metadata": {
        "id": "MXYjtmC5eMbQ"
      },
      "execution_count": null,
      "outputs": []
    },
    {
      "cell_type": "code",
      "source": [
        "# 79) Crie uma função que recebe uma lista de coeficientes e retorna uma\n",
        "# função que calcula o valor de um polinômio para um dado valor de x.\n",
        "# Exemplo:\n",
        "# Coeficientes do polinômio: 2x^0 + 3x^1 - x^2\n",
        "# coeficientes = [2, 3, -1]\n",
        "# polinomio = criar_polinomio(coeficientes)\n",
        "# resultado = polinomio(2)\n",
        "# 4\n",
        "# Isto é, 2*(2)**0 + 3*(2)**1 - (2)**2 = 4\n",
        "\n",
        "def criar_polinomio(coeficientes):\n",
        "    \"\"\"\n",
        "    Função que cria uma função para calcular o valor de um polinômio para um dado valor de x.\n",
        "\n",
        "    Parâmetros:\n",
        "    - coeficientes: Uma lista de coeficientes do polinômio.\n",
        "\n",
        "    Retorna:\n",
        "    - Uma função que calcula o valor do polinômio para um dado valor de x.\n",
        "    \"\"\"\n",
        "\n",
        "    def polinomio(x):\n",
        "        valor_polinomio = 0\n",
        "        for expoente, coeficiente in enumerate(coeficientes):\n",
        "            valor_polinomio += coeficiente * (x ** expoente)\n",
        "        return valor_polinomio\n",
        "\n",
        "    return polinomio\n",
        "\n",
        "# Coeficientes do polinômio: 2x^0 + 3x^1 - x^2\n",
        "coeficientes = [2, 3, -1]\n",
        "\n",
        "# Criando a função para calcular o polinômio com os coeficientes dados\n",
        "polinomio = criar_polinomio(coeficientes)\n",
        "\n",
        "# Calculando o valor do polinômio para x = 2\n",
        "resultado = polinomio(2)\n",
        "print(resultado)  # Saída: 4\n"
      ],
      "metadata": {
        "id": "xK5aZeHXf7fN"
      },
      "execution_count": null,
      "outputs": []
    },
    {
      "cell_type": "code",
      "source": [
        "# A Função ANY()\n",
        "# avalia um iterável e retornar TRUE se pelo menos\n",
        "# um dos elemento for True.\n",
        "# Lembrando que False é 0, None, \"\", {}, {}  qualquer\n",
        "\n",
        "# Exemplo 1\n",
        "lista1 = [0, \"\", None, False, [], {}]\n",
        "print(any(lista1))  # Saída: False, pois todos os elementos são avaliados como falsos\n",
        "\n",
        "# Exemplo 2\n",
        "lista2 = [0, \"\", None, False, [], {}, 5]\n",
        "print(any(lista2))  # Saída: True, pois 5 é avaliado como verdadeiro\n",
        "\n",
        "# Exemplo 3\n",
        "lista3 = [0, \"\", None, False]\n",
        "print(any(lista3))  # Saída: False, pois todos os elementos são avaliados como falsos\n",
        "\n",
        "# Exemplo 4\n",
        "lista4 = [0, \"\", None, False, \"texto\"]\n",
        "print(any(lista4))  # Saída: True, pois \"texto\" é avaliado como verdadeiro\n"
      ],
      "metadata": {
        "id": "2ibt1EFYggC7"
      },
      "execution_count": null,
      "outputs": []
    },
    {
      "cell_type": "code",
      "source": [
        "# 81) Você precisa verificar no frontend se a senha escolhida pelo\n",
        "# usuário é segura. Para isso, você deve serguir um conjunto de\n",
        "# verificações antes de permitir que o usuário prossiga com o\n",
        "# cadastro no sistema.\n",
        "# Crie uma função para verificar se uma senha é segura.\n",
        "# Ela retorna True caso seja, con contrário, False.\n",
        "# Considere:\n",
        "# 1. Pelo menos um caracter deva ser letra maiúscula;\n",
        "# 2. Pelo menos um caracter deva ser letra minúscula;\n",
        "# 3. Pelo menos um caracter deva ser especial \"!@#$%^&*()-_+=<>,.?/:;{}[]\";\n",
        "# 4. Pelo menos um caracter deve ser um número.\n",
        "\n",
        "import re\n",
        "\n",
        "def verificar_seguranca_senha(senha):\n",
        "    # Verificar se há pelo menos uma letra maiúscula\n",
        "    if not any(letra.isupper() for letra in senha):\n",
        "        return False\n",
        "\n",
        "    # Verificar se há pelo menos uma letra minúscula\n",
        "    if not any(letra.islower() for letra in senha):\n",
        "        return False\n",
        "\n",
        "    # Verificar se há pelo menos um caractere especial\n",
        "    if not re.search(r'[!@#$%^&*()-_+=<>,.?/:;{}[\\]]', senha):\n",
        "        return False\n",
        "\n",
        "    # Verificar se há pelo menos um número\n",
        "    if not any(letra.isdigit() for letra in senha):\n",
        "        return False\n",
        "\n",
        "    # Se todas as verificações passarem, a senha é considerada segura\n",
        "    return True\n",
        "\n",
        "# Exemplos de senhas para testar a função\n",
        "senhas = [\"SenhaInsegura\", \"senha@insegura123\", \"SenhaSegura!123\"]\n",
        "\n",
        "# Testar cada senha e imprimir o resultado\n",
        "for senha in senhas:\n",
        "    print(f\"A senha '{senha}' é segura? {verificar_seguranca_senha(senha)}\")\n"
      ],
      "metadata": {
        "colab": {
          "base_uri": "https://localhost:8080/"
        },
        "id": "-qgFIlExzsLc",
        "outputId": "856cbea2-de0b-4f42-b329-15b3fe63274b"
      },
      "execution_count": null,
      "outputs": [
        {
          "output_type": "stream",
          "name": "stdout",
          "text": [
            "A senha 'SenhaInsegura' é segura? False\n",
            "A senha 'senha@insegura123' é segura? False\n",
            "A senha 'SenhaSegura!123' é segura? True\n"
          ]
        }
      ]
    },
    {
      "cell_type": "code",
      "source": [
        "# A Função ALL()\n",
        "# avalia um iterável e retornar TRUE se TODOS\n",
        "# os elementos forem True.\n",
        "# Lembrando que True é qualquer valor diferente de zero,\n",
        "# None ou vazio.\n",
        "\n",
        "# Exemplo 1\n",
        "lista1 = [2, \"texto\", True, [1, 2, 3]]\n",
        "print(all(lista1))  # Saída: True, pois todos os elementos são avaliados como verdadeiros\n",
        "\n",
        "# Exemplo 2\n",
        "lista2 = [2, \"texto\", False, [1, 2, 3]]\n",
        "print(all(lista2))  # Saída: False, pois o terceiro elemento (False) é avaliado como falso\n",
        "\n",
        "# Exemplo 3\n",
        "lista3 = [2, \"texto\", True, None]\n",
        "print(all(lista3))  # Saída: False, pois o quarto elemento (None) é avaliado como falso\n",
        "\n",
        "# Exemplo 4\n",
        "lista4 = [2, \"texto\", True, \"\"]\n",
        "print(all(lista4))  # Saída: False, pois o quarto elemento (vazio) é avaliado como falso\n"
      ],
      "metadata": {
        "id": "ztxBITJA1E_T"
      },
      "execution_count": null,
      "outputs": []
    },
    {
      "cell_type": "code",
      "source": [
        "# ARGUMENTS ou *args\n",
        "# É uma maneira de entrar com vários argumentos\n",
        "# em uma função sem nomeá-los.\n",
        "\n",
        "def minha_funcao(*args):\n",
        "    for argumento in args:\n",
        "        print(argumento)\n",
        "\n",
        "# Chamando a função com diferentes números de argumentos\n",
        "minha_funcao(1, 2, 3)        # Saída: 1 2 3\n",
        "minha_funcao('a', 'b', 'c')  # Saída: a b c\n",
        "minha_funcao(True, False)    # Saída: True False\n"
      ],
      "metadata": {
        "id": "jQAUUxXk1qHz"
      },
      "execution_count": null,
      "outputs": []
    },
    {
      "cell_type": "code",
      "source": [
        "# 83) Imagine que você está desenvolvendo um sistema de processamento\n",
        "# de pedidos para um restaurante. Neste restaurante, os clientes podem\n",
        "# fazer pedidos de uma variedade de itens do menu, e cada item tem um\n",
        "# preço associado. No entanto, os clientes podem fazer pedidos de\n",
        "# diferentes quantidades de itens e também podem adicionar itens\n",
        "# adicionais à medida que desejarem. A função recebe uma sequência\n",
        "# de tuplas (produto ,quantidade).\n",
        "# Sabendo que os produtos e os valores são dados pelo dicionário:\n",
        "# A função deve imprimir o recibo do pedido contendo cada produto,\n",
        "# sua quantidade e o valor total.\n",
        "\n",
        "#Exemplo de uso:\n",
        "# processar_pedido(('Hamburguer', 2), ('Batata Frita', 1), ('Refrigerante', 3))\n",
        "\n",
        "def processar_pedido(*pedidos):\n",
        "    total_pedido = 0\n",
        "    print(\"===== RECIBO DO PEDIDO =====\")\n",
        "    for produto, quantidade in pedidos:\n",
        "        if produto in menu:\n",
        "            preco_unitario = menu[produto]\n",
        "            preco_total_item = preco_unitario * quantidade\n",
        "            total_pedido += preco_total_item\n",
        "            print(f\"{quantidade}x {produto}: R$ {preco_total_item:.2f}\")\n",
        "        else:\n",
        "            print(f\"Produto '{produto}' não está no menu.\")\n",
        "\n",
        "    print(\"=============================\")\n",
        "    print(f\"Total do pedido: R$ {total_pedido:.2f}\")\n",
        "\n",
        "# Menu de produtos e seus preços\n",
        "menu = {'Hamburguer': 10.00, 'Batata Frita': 5.50, 'Refrigerante': 3.25, 'Sobremesa': 7.10}\n",
        "\n",
        "# Exemplo de uso\n",
        "processar_pedido(('Hamburguer', 2), ('Batata Frita', 1), ('Refrigerante', 3))\n"
      ],
      "metadata": {
        "colab": {
          "base_uri": "https://localhost:8080/"
        },
        "id": "dJpEedFH15m3",
        "outputId": "323b6b18-e404-4154-ba11-ef8a02cdc46e"
      },
      "execution_count": null,
      "outputs": [
        {
          "output_type": "stream",
          "name": "stdout",
          "text": [
            "===== RECIBO DO PEDIDO =====\n",
            "2x Hamburguer: R$ 20.00\n",
            "1x Batata Frita: R$ 5.50\n",
            "3x Refrigerante: R$ 9.75\n",
            "=============================\n",
            "Total do pedido: R$ 35.25\n"
          ]
        }
      ]
    },
    {
      "cell_type": "code",
      "source": [
        "# Uma estrutura pode ser passada por parâmetro com o operador *.\n",
        "# Funciona como um ponteiro.\n",
        "# Uma estrutura pode ser passada por parâmetro com o operador *.\n",
        "# Funciona como um ponteiro.\n",
        "\n",
        "def media(*valores):\n",
        "  return sum(valores)/len(valores)\n",
        "\n",
        "lista=[1,2,3,4,5]\n",
        "tupla=(1,2,3,4,5)\n",
        "conjunto={1,2,3,4,5}\n",
        "dicionario={1: 1, 2: 2 , 3: 3, 4: 4, 5: 5}\n",
        "\n",
        "print(f'A média é: {media(1,2,3,4,5)}')\n",
        "print(f'A média é: {media(*lista)}')\n",
        "print(f'A média é: {media(*tupla)}')\n",
        "print(f'A média é: {media(*conjunto)}')\n",
        "print(f'A média é: {media(*dicionario)}')\n",
        "\n",
        "# Obs: para o dicionário, ele considera apenas uma tupla com os índices.\n"
      ],
      "metadata": {
        "id": "kpJB-wne2n5O"
      },
      "execution_count": null,
      "outputs": []
    },
    {
      "cell_type": "code",
      "source": [
        "# KEYWORD ARGUMENTS ou **kwargs\n",
        "# É uma maneira de passar um número\n",
        "# indefinido de parâmetros para uma função.\n",
        "\n",
        "def minha_funcao(**kwargs):\n",
        "    for chave, valor in kwargs.items():\n",
        "        print(f\"{chave} = {valor}\")\n",
        "\n",
        "# Chamando a função com diferentes números de argumentos nomeados\n",
        "minha_funcao(a=1, b=2, c=3)                    # Passando três argumentos nomeados\n",
        "minha_funcao(nome=\"Alice\", idade=30)           # Passando dois argumentos nomeados\n",
        "minha_funcao(cor=\"vermelho\", preco=10, peso=5) # Passando três argumentos nomeados\n",
        "\n",
        "\n",
        "#Obs: kwargs pode ser substituido por qualquer nome.\n",
        "# A comunidade usa kwargs por convenção."
      ],
      "metadata": {
        "id": "cx_0zf4c3xAd"
      },
      "execution_count": null,
      "outputs": []
    },
    {
      "cell_type": "code",
      "source": [
        "# É o mesmo de você passar um dicionário para uma função,\n",
        "# desempacotando com o operador **.\n",
        "\n",
        "def funcao_kwargs(**kwargs):\n",
        "  for chave,valor in kwargs.items():\n",
        "    print(f\"{chave}:{valor}\")\n",
        "\n",
        "dicionario={\"paramero_1\": 1, \"parametro_2\": 'dois', \"parametro_3\": [3,\"quatro\"]}\n",
        "funcao_kwargs(**dicionario)"
      ],
      "metadata": {
        "id": "ZcMw615V3_ku"
      },
      "execution_count": null,
      "outputs": []
    },
    {
      "cell_type": "code",
      "source": [
        "# 84) Um sistema de gerenciamento de estoque de uma loja de materiais de\n",
        "# construção precisa de uma função que possa processar diversas\n",
        "# informações sobre os produtos em estoque.\n",
        "# Crie duas funções, uma para atualizar o estoque e outra para verificar\n",
        "# o estoque.\n",
        "\n",
        "estoque = {}  # Dicionário para armazenar o estoque dos produtos\n",
        "\n",
        "def atualizar_estoque(produto, quantidade):\n",
        "    \"\"\"\n",
        "    Função para atualizar o estoque de um produto com uma determinada quantidade.\n",
        "\n",
        "    Parâmetros:\n",
        "    - produto: Nome do produto.\n",
        "    - quantidade: Quantidade para adicionar (se positiva) ou subtrair (se negativa) do estoque.\n",
        "    \"\"\"\n",
        "    estoque[produto] = estoque.get(produto, 0) + quantidade\n",
        "    print(f\"Estoque de '{produto}' atualizado. Nova quantidade: {estoque[produto]}\")\n",
        "\n",
        "def verificar_estoque(produto):\n",
        "    \"\"\"\n",
        "    Função para verificar a quantidade de um produto em estoque.\n",
        "\n",
        "    Parâmetros:\n",
        "    - produto: Nome do produto.\n",
        "\n",
        "    Retorna:\n",
        "    - Quantidade do produto em estoque.\n",
        "    \"\"\"\n",
        "    return estoque.get(produto, 0)\n",
        "\n",
        "# Exemplo de uso das funções\n",
        "atualizar_estoque('Tijolo', 100)\n",
        "atualizar_estoque('Cimento', 50)\n",
        "atualizar_estoque('Tijolo', -30)\n",
        "atualizar_estoque('Areia', 80)\n",
        "\n",
        "print(f\"Quantidade de Tijolos em estoque: {verificar_estoque('Tijolo')}\")\n",
        "print(f\"Quantidade de Cimento em estoque: {verificar_estoque('Cimento')}\")\n",
        "print(f\"Quantidade de Areia em estoque: {verificar_estoque('Areia')}\")\n"
      ],
      "metadata": {
        "id": "Q8bnVojn4YeM"
      },
      "execution_count": null,
      "outputs": []
    },
    {
      "cell_type": "code",
      "source": [
        "# 85) Você trabalha para uma empresa que analisa dados de partidas de vôlei\n",
        "# para produção de relatórios. Faça uma função que receba o tipo de evento\n",
        "# ocorrido em uma partida e guarde em uma estrutura de dado o momento que o evento\n",
        "# ocorreu. Faça uma segunda função para listar um relatório de ocorrências com\n",
        "# as colunas tempo  e  ocorrência. Faça uma estrutura para cada time: time_1\n",
        "# e time_2.\n",
        "# Protótipos das funções:\n",
        "# def registrar_evento(time, ocorrencia)\n",
        "# def relatorio(time)\n",
        "# Exemplo de uso:\n",
        "# registrar_evento(time_1, \"início de jogo\")\n",
        "# registrar_evento(time_1, \"ponto marcado\")\n",
        "# registrar_evento(time_1, \"ponto sofrido\")\n",
        "# registrar_evento(time_1, \"ponto de bloqueio\")\n",
        "# relatorio(time_1)\n",
        "# Tempo     Ocorência\n",
        "# 15:00:01  início de jogo\n",
        "# 15:01:12  ponto marcado\n",
        "# 15:01:58  ponto sofrido, ponto de bloqueio\n",
        "\n",
        "# Tipos de eventos: início de jogo, saque, recepção, ataque, bloqueio, defesa,\n",
        "# ponto marcado, ponto sofrido, condução, toque na rede, invasão, dois toques,\n",
        "# queimou o saque, contato ilegal, ponto de ataque, ponto de bloqueio,\n",
        "# dois toques, bola fora, tempo, recepção.\n",
        "# Dica:\n",
        "import datetime\n",
        "\n",
        "def agora():\n",
        "  agora=datetime.datetime.now()\n",
        "  return f'{agora.hour:02}:{agora.minute:02}:{agora.second:02}'"
      ],
      "metadata": {
        "id": "fVggOObh42_j"
      },
      "execution_count": null,
      "outputs": []
    },
    {
      "cell_type": "code",
      "source": [
        "from datetime import datetime\n",
        "from time import sleep\n",
        "\n",
        "time1 = []\n",
        "time2 = []\n",
        "\n",
        "def registrar_evento(time, ocorrencia):\n",
        "  agora = datetime.now().strftime(\"%H:%M:%S\")\n",
        "  if time == \"time_1\":\n",
        "    time1.append((agora, ocorrencia))\n",
        "  elif time == \"time_2\":\n",
        "    time2.append((agora, ocorrencia))\n",
        "  else:\n",
        "    print(\"Alguma coisa errada.\")\n",
        "\n",
        "def relatorio(time):\n",
        "  if time == \"time_1\":\n",
        "    show(1, time1)\n",
        "  elif time == \"time_2\":\n",
        "    show(2, time2)\n",
        "  else:\n",
        "    print(\"Alguma coisa está errada...\")\n",
        "\n",
        "def show(num, time):\n",
        "  print(f\"Time {num}\")\n",
        "  for tempo, ocor in time:\n",
        "    print(f\"Tempo: {tempo} || Ocorrência: {ocor}\")\n",
        "    sleep(2)\n",
        "\n",
        "registrar_evento(\"time_1\", \"início de jogo\")\n",
        "registrar_evento(\"time_1\", \"ponto marcado\")\n",
        "registrar_evento(\"time_1\", \"ponto sofrido\")\n",
        "registrar_evento(\"time_1\", \"ponto de bloqueio\")\n",
        "relatorio(\"time_1\")"
      ],
      "metadata": {
        "id": "RfcMAhXM6dA7"
      },
      "execution_count": null,
      "outputs": []
    },
    {
      "cell_type": "code",
      "source": [
        "# 86) Você tem uma lista de tuplas contendo nome do filme e a quantidade de estrelas dadas\n",
        "# por um usuário (1, 2, 3, 4 ou 5 estrelas).\n",
        "# Crie uma função que retorne um dicionário com nome do filme como chave e a classificação\n",
        "# média (estrelas) como valor.\n",
        "# Crie uma função para imprimir na tela apenas o nome e a classificação dos filmes acima da\n",
        "# média passada como parâmetro.\n",
        "# Protótipo das funções:\n",
        "# def calcula_estrelas(lista):\n",
        "# def filmes_acima_de(media, dicionario):\n",
        "\n",
        "# Exemplo de uso:\n",
        "# dicionario=calcula_estrelas(lista):\n",
        "# filmes_acima_de(4, dicionario)\n",
        "# Filme A: 4,7 estrelas\n",
        "# Filme C: 5,0 estrelas\n",
        "\n",
        "\n",
        "def calcula_estrelas(lista):\n",
        "    \"\"\"\n",
        "    Função para calcular a classificação média de filmes a partir de uma lista de tuplas.\n",
        "\n",
        "    Parâmetros:\n",
        "    - lista: Lista de tuplas contendo o nome do filme e a quantidade de estrelas dadas por um usuário.\n",
        "\n",
        "    Retorna:\n",
        "    - Um dicionário com o nome do filme como chave e a classificação média como valor.\n",
        "    \"\"\"\n",
        "    classificacoes = {}\n",
        "    contador = {}\n",
        "\n",
        "    for filme, estrelas in lista:\n",
        "        if filme not in classificacoes:\n",
        "            classificacoes[filme] = estrelas\n",
        "            contador[filme] = 1\n",
        "        else:\n",
        "            classificacoes[filme] += estrelas\n",
        "            contador[filme] += 1\n",
        "\n",
        "    for filme in classificacoes:\n",
        "        classificacoes[filme] /= contador[filme]\n",
        "\n",
        "    return classificacoes\n",
        "\n",
        "def filmes_acima_de(media, dicionario):\n",
        "    \"\"\"\n",
        "    Função para imprimir na tela apenas o nome e a classificação dos filmes acima da média especificada.\n",
        "\n",
        "    Parâmetros:\n",
        "    - media: A média pela qual os filmes serão filtrados.\n",
        "    - dicionario: Um dicionário com o nome do filme como chave e a classificação média como valor.\n",
        "    \"\"\"\n",
        "    print(f\"Filmes acima de {media} estrelas:\")\n",
        "    for filme, classificacao in dicionario.items():\n",
        "        if classificacao > media:\n",
        "            print(f\"{filme}: {classificacao:.1f} estrelas\")\n",
        "\n",
        "# Lista de tuplas contendo o nome do filme e a quantidade de estrelas\n",
        "lista = [('Filme A', 4), ('Filme B', 3), ('Filme A', 5), ('Filme B', 2), ('Filme A', 5), ('Filme C', 5)]\n",
        "\n",
        "# Calcular as classificações médias dos filmes\n",
        "dicionario = calcula_estrelas(lista)\n",
        "\n",
        "# Exibir filmes acima da média especificada\n",
        "filmes_acima_de(4, dicionario)\n"
      ],
      "metadata": {
        "colab": {
          "base_uri": "https://localhost:8080/"
        },
        "id": "sVJFtes06gfv",
        "outputId": "217936b7-d35b-42d1-8561-a6737bb87411"
      },
      "execution_count": null,
      "outputs": [
        {
          "output_type": "stream",
          "name": "stdout",
          "text": [
            "Filmes acima de 4 estrelas:\n",
            "Filme A: 4.7 estrelas\n",
            "Filme C: 5.0 estrelas\n"
          ]
        }
      ]
    },
    {
      "cell_type": "code",
      "source": [
        "import random\n",
        "# 87) Consideando a lista de dados de altura de uma sala, normalize-os para a escala de [0,1].\n",
        "# Crie uma função para criar o normalizador e utilize a função map() para normalizar os dados.\n",
        "# Eemplo de uso:\n",
        "# normalidador=cria_normalizador(dados)\n",
        "# alturas_normalizadas=list(map(normalizador,alturas_metros))\n",
        "\n",
        "def cria_normalizador(dados):\n",
        "    \"\"\"\n",
        "    Função para criar um normalizador.\n",
        "\n",
        "    Parâmetros:\n",
        "    - dados: Uma lista de dados.\n",
        "\n",
        "    Retorna:\n",
        "    - Uma função normalizadora que normaliza os dados para a escala [0, 1].\n",
        "    \"\"\"\n",
        "    valor_minimo = min(dados)\n",
        "    valor_maximo = max(dados)\n",
        "\n",
        "    def normalizador(valor):\n",
        "        return (valor - valor_minimo) / (valor_maximo - valor_minimo)\n",
        "\n",
        "    return normalizador\n",
        "\n",
        "# Lista de alturas em metros\n",
        "alturas_metros = [1.72, 1.85, 1.65, 1.90, 1.80]\n",
        "\n",
        "# Criar o normalizador\n",
        "normalizador = cria_normalizador(alturas_metros)\n",
        "\n",
        "# Normalizar os dados utilizando a função map()\n",
        "alturas_normalizadas = list(map(normalizador, alturas_metros))\n",
        "\n",
        "print(\"Alturas originais:\", alturas_metros)\n",
        "print(\"Alturas normalizadas:\", alturas_normalizadas)\n"
      ],
      "metadata": {
        "colab": {
          "base_uri": "https://localhost:8080/"
        },
        "id": "ZEM5yom57Guw",
        "outputId": "f650fd96-5555-4e40-d58f-9add5c76d417"
      },
      "execution_count": null,
      "outputs": [
        {
          "output_type": "stream",
          "name": "stdout",
          "text": [
            "Alturas originais: [1.72, 1.85, 1.65, 1.9, 1.8]\n",
            "Alturas normalizadas: [0.28000000000000025, 0.8000000000000007, 0.0, 1.0, 0.6000000000000005]\n"
          ]
        }
      ]
    }
  ]
}